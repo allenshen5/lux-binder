{
 "cells": [
  {
   "cell_type": "code",
   "execution_count": null,
   "metadata": {},
   "outputs": [],
   "source": [
    "import pandas as pd\n",
    "import lux"
   ]
  },
  {
   "cell_type": "code",
   "execution_count": null,
   "metadata": {},
   "outputs": [],
   "source": [
    "# Collecting basic usage statistics for Lux (For more information, see: https://tinyurl.com/logging-consent)\n",
    "lux.logger = True # Remove this line if you do not want your interactions recorded"
   ]
  },
  {
   "cell_type": "code",
   "execution_count": null,
   "metadata": {},
   "outputs": [],
   "source": [
    "df = pd.read_csv(\"https://github.com/lux-org/lux-datasets/blob/master/data/hpi.csv?raw=true\")\n",
    "lux.config.default_display = \"lux\"\n",
    "df"
   ]
  },
  {
   "cell_type": "code",
   "execution_count": null,
   "metadata": {},
   "outputs": [],
   "source": [
    "df[\"G10\"]  = df[\"Country\"].isin([\"Belgium\",\"Canada\",\"France\",\"Germany\",\"Italy\",\"Japan\",\"Netherlands\",\"United Kingdom\",\"Switzerland\",\"Sweden\",\"United States\"])"
   ]
  },
  {
   "cell_type": "code",
   "execution_count": null,
   "metadata": {},
   "outputs": [],
   "source": [
    "from lux.vis.VisList import VisList"
   ]
  },
  {
   "cell_type": "code",
   "execution_count": null,
   "metadata": {},
   "outputs": [],
   "source": [
    "intent = [lux.Clause(\"?\",data_type=\"quantitative\"),lux.Clause(\"G10\")]\n",
    "vlist = VisList(intent,df)\n",
    "\n",
    "for vis in vlist:\n",
    "    # Percentage Change Between G10 v.s. non-G10 countries \n",
    "    a = vis.data.iloc[0,1]\n",
    "    b = vis.data.iloc[1,1]\n",
    "    vis.score = (b-a)/a\n",
    "vlist = vlist.topK(15)"
   ]
  },
  {
   "cell_type": "code",
   "execution_count": null,
   "metadata": {},
   "outputs": [],
   "source": [
    "vlist"
   ]
  },
  {
   "cell_type": "code",
   "execution_count": null,
   "metadata": {},
   "outputs": [],
   "source": [
    "def G10_mean_difference(input_df): #TODO: change input_df name? \n",
    "    intent = [lux.Clause(\"?\",data_type=\"quantitative\"),lux.Clause(\"G10\")]\n",
    "    vlist = VisList(intent,input_df)\n",
    "\n",
    "    for vis in vlist:\n",
    "        a = vis.data.iloc[0,1]\n",
    "        b = vis.data.iloc[1,1]\n",
    "        vis.score = (b-a)/a\n",
    "    vlist = vlist.topK(15)\n",
    "    return {\"action\":\"G10\", \"description\": \"Percentage Change of Means Between G10 v.s. non-G10 countries\", \"collection\": vlist}"
   ]
  },
  {
   "cell_type": "code",
   "execution_count": null,
   "metadata": {},
   "outputs": [],
   "source": [
    "def is_G10_hpi_dataset(df):\n",
    "    try: \n",
    "        return all(df.columns == ['HPIRank', 'Country', 'SubRegion', 'AverageLifeExpectancy',\n",
    "       'AverageWellBeing', 'HappyLifeYears', 'Footprint',\n",
    "       'InequalityOfOutcomes', 'InequalityAdjustedLifeExpectancy',\n",
    "       'InequalityAdjustedWellbeing', 'HappyPlanetIndex', 'GDPPerCapita',\n",
    "       'Population', 'G10'])\n",
    "    except: \n",
    "        return False"
   ]
  },
  {
   "cell_type": "code",
   "execution_count": null,
   "metadata": {},
   "outputs": [],
   "source": [
    "lux.register_action(\"G10\", G10_mean_difference,is_G10_hpi_dataset)"
   ]
  },
  {
   "cell_type": "markdown",
   "metadata": {},
   "source": [
    "Now we can look at the attributes that are most different across G10 and non-G10 countries. We find that G10 countries have higher GDPPerCapita, but also contribute to more Footprint."
   ]
  },
  {
   "cell_type": "code",
   "execution_count": null,
   "metadata": {},
   "outputs": [],
   "source": [
    "df"
   ]
  },
  {
   "cell_type": "markdown",
   "metadata": {},
   "source": [
    "What if we look at countries above a certain GDP threshold? "
   ]
  },
  {
   "cell_type": "code",
   "execution_count": null,
   "metadata": {},
   "outputs": [],
   "source": [
    "df[df[\"GDPPerCapita\"]>40000]"
   ]
  },
  {
   "cell_type": "code",
   "execution_count": null,
   "metadata": {},
   "outputs": [],
   "source": [
    "lux.actions.__len__()\n",
    "lux.actions.__getactions__()"
   ]
  },
  {
   "cell_type": "code",
   "execution_count": null,
   "metadata": {},
   "outputs": [],
   "source": [
    "lux.actions.__getattr__(\"G10\")"
   ]
  },
  {
   "cell_type": "code",
   "execution_count": null,
   "metadata": {},
   "outputs": [],
   "source": [
    "lux.remove_action(\"G10\")"
   ]
  }
 ],
 "metadata": {
  "kernelspec": {
   "display_name": "Python 3",
   "language": "python",
   "name": "python3"
  },
  "language_info": {
   "codemirror_mode": {
    "name": "ipython",
    "version": 3
   },
   "file_extension": ".py",
   "mimetype": "text/x-python",
   "name": "python",
   "nbconvert_exporter": "python",
   "pygments_lexer": "ipython3",
   "version": "3.7.7"
  }
 },
 "nbformat": 4,
 "nbformat_minor": 4
}
