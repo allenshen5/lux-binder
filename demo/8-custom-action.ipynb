{
 "cells": [
  {
   "cell_type": "code",
   "execution_count": 1,
   "metadata": {},
   "outputs": [],
   "source": [
    "import pandas as pd\n",
    "import lux"
   ]
  },
  {
   "cell_type": "code",
   "execution_count": 2,
   "metadata": {},
   "outputs": [
    {
     "data": {
      "application/vnd.jupyter.widget-view+json": {
       "model_id": "3369ab93991640e9bcf1dac115673885",
       "version_major": 2,
       "version_minor": 0
      },
      "text/plain": [
       "Button(description='Toggle Pandas/Lux', layout=Layout(top='5px', width='140px'), style=ButtonStyle())"
      ]
     },
     "metadata": {},
     "output_type": "display_data"
    },
    {
     "data": {
      "application/vnd.jupyter.widget-view+json": {
       "model_id": "9b67abbcb8ee4f1895a10fdc889d6c49",
       "version_major": 2,
       "version_minor": 0
      },
      "text/plain": [
       "Output()"
      ]
     },
     "metadata": {},
     "output_type": "display_data"
    },
    {
     "data": {
      "text/plain": []
     },
     "execution_count": 2,
     "metadata": {},
     "output_type": "execute_result"
    }
   ],
   "source": [
    "df = pd.read_csv(\"../../lux/data/hpi.csv\")\n",
    "lux.config.default_display = \"lux\"\n",
    "df"
   ]
  },
  {
   "cell_type": "code",
   "execution_count": 3,
   "metadata": {},
   "outputs": [],
   "source": [
    "df[\"G10\"]  = df[\"Country\"].isin([\"Belgium\",\"Canada\",\"France\",\"Germany\",\"Italy\",\"Japan\",\"Netherlands\",\"United Kingdom\",\"Switzerland\",\"Sweden\",\"United States\"])"
   ]
  },
  {
   "cell_type": "code",
   "execution_count": 4,
   "metadata": {},
   "outputs": [],
   "source": [
    "from lux.vis.VisList import VisList"
   ]
  },
  {
   "cell_type": "code",
   "execution_count": 5,
   "metadata": {},
   "outputs": [],
   "source": [
    "intent = [lux.Clause(\"?\",data_type=\"quantitative\"),lux.Clause(\"G10\")]\n",
    "vlist = VisList(intent,df)\n",
    "\n",
    "for vis in vlist:\n",
    "    # Percentage Change Between G10 v.s. non-G10 countries \n",
    "    a = vis.data.iloc[0,1]\n",
    "    b = vis.data.iloc[1,1]\n",
    "    vis.score = (b-a)/a\n",
    "vlist = vlist.topK(15)"
   ]
  },
  {
   "cell_type": "code",
   "execution_count": 6,
   "metadata": {},
   "outputs": [
    {
     "data": {
      "application/vnd.jupyter.widget-view+json": {
       "model_id": "c571d209289844d7b512a5a685fb5a5a",
       "version_major": 2,
       "version_minor": 0
      },
      "text/plain": [
       "LuxWidget(recommendations=[{'action': 'Vis List', 'description': 'Shows a vis list defined by the intent', 'vs…"
      ]
     },
     "metadata": {},
     "output_type": "display_data"
    },
    {
     "data": {
      "text/plain": [
       "[<Vis  (x: MEAN(GDPPerCapita)                    , y: G10) mark: bar, score: 3.43 >,\n",
       " <Vis  (x: MEAN(Footprint)                       , y: G10) mark: bar, score: 0.93 >,\n",
       " <Vis  (x: MEAN(HappyLifeYears)                  , y: G10) mark: bar, score: 0.77 >,\n",
       " <Vis  (x: MEAN(InequalityAdjustedWellbeing)     , y: G10) mark: bar, score: 0.37 >,\n",
       " <Vis  (x: MEAN(InequalityAdjustedLifeExpectancy), y: G10) mark: bar, score: 0.33 >,\n",
       " <Vis  (x: MEAN(AverageWellBeing)                , y: G10) mark: bar, score: 0.31 >,\n",
       " <Vis  (x: MEAN(AverageLifeExpectancy)           , y: G10) mark: bar, score: 0.16 >,\n",
       " <Vis  (x: MEAN(HappyPlanetIndex)                , y: G10) mark: bar, score: 0.12 >,\n",
       " <Vis  (x: MEAN(Population)                      , y: G10) mark: bar, score: -0.01 >,\n",
       " <Vis  (x: MEAN(HPIRank)                         , y: G10) mark: bar, score: -0.28 >,\n",
       " <Vis  (x: MEAN(InequalityOfOutcomes)            , y: G10) mark: bar, score: -0.67 >]"
      ]
     },
     "execution_count": 6,
     "metadata": {},
     "output_type": "execute_result"
    }
   ],
   "source": [
    "vlist"
   ]
  },
  {
   "cell_type": "code",
   "execution_count": 7,
   "metadata": {},
   "outputs": [],
   "source": [
    "def G10_mean_difference(input_df): #TODO: change input_df name? \n",
    "    intent = [lux.Clause(\"?\",data_type=\"quantitative\"),lux.Clause(\"G10\")]\n",
    "    vlist = VisList(intent,input_df)\n",
    "\n",
    "    for vis in vlist:\n",
    "        a = vis.data.iloc[0,1]\n",
    "        b = vis.data.iloc[1,1]\n",
    "        vis.score = (b-a)/a\n",
    "    vlist = vlist.topK(15)\n",
    "    return {\"action\":\"G10\", \"description\": \"Percentage Change of Means Between G10 v.s. non-G10 countries\", \"collection\": vlist}"
   ]
  },
  {
   "cell_type": "code",
   "execution_count": 8,
   "metadata": {},
   "outputs": [],
   "source": [
    "def is_G10_hpi_dataset(df):\n",
    "    try: \n",
    "        return all(df.columns == ['HPIRank', 'Country', 'SubRegion', 'AverageLifeExpectancy',\n",
    "       'AverageWellBeing', 'HappyLifeYears', 'Footprint',\n",
    "       'InequalityOfOutcomes', 'InequalityAdjustedLifeExpectancy',\n",
    "       'InequalityAdjustedWellbeing', 'HappyPlanetIndex', 'GDPPerCapita',\n",
    "       'Population', 'G10'])\n",
    "    except: \n",
    "        return False"
   ]
  },
  {
   "cell_type": "code",
   "execution_count": 9,
   "metadata": {},
   "outputs": [],
   "source": [
    "lux.register_action(\"G10\", G10_mean_difference,is_G10_hpi_dataset)"
   ]
  },
  {
   "cell_type": "markdown",
   "metadata": {},
   "source": [
    "Now we can look at the attributes that are most different across G10 and non-G10 countries. We find that G10 countries have higher GDPPerCapita, but also contribute to more Footprint."
   ]
  },
  {
   "cell_type": "code",
   "execution_count": 10,
   "metadata": {},
   "outputs": [
    {
     "data": {
      "application/vnd.jupyter.widget-view+json": {
       "model_id": "cd75a50fae3846efa42f4044db5a8376",
       "version_major": 2,
       "version_minor": 0
      },
      "text/plain": [
       "Button(description='Toggle Pandas/Lux', layout=Layout(top='5px', width='140px'), style=ButtonStyle())"
      ]
     },
     "metadata": {},
     "output_type": "display_data"
    },
    {
     "data": {
      "application/vnd.jupyter.widget-view+json": {
       "model_id": "177d45ecbd1649c38e89c027bf5c7c72",
       "version_major": 2,
       "version_minor": 0
      },
      "text/plain": [
       "Output()"
      ]
     },
     "metadata": {},
     "output_type": "display_data"
    },
    {
     "data": {
      "text/plain": []
     },
     "execution_count": 10,
     "metadata": {},
     "output_type": "execute_result"
    }
   ],
   "source": [
    "df"
   ]
  },
  {
   "cell_type": "markdown",
   "metadata": {},
   "source": [
    "What if we look at countries above a certain GDP threshold? "
   ]
  },
  {
   "cell_type": "code",
   "execution_count": 11,
   "metadata": {},
   "outputs": [
    {
     "data": {
      "application/vnd.jupyter.widget-view+json": {
       "model_id": "af3e2d8fd1a640adbbe2037576afe2c9",
       "version_major": 2,
       "version_minor": 0
      },
      "text/plain": [
       "Button(description='Toggle Pandas/Lux', layout=Layout(top='5px', width='140px'), style=ButtonStyle())"
      ]
     },
     "metadata": {},
     "output_type": "display_data"
    },
    {
     "data": {
      "application/vnd.jupyter.widget-view+json": {
       "model_id": "cb0c57b8805740c18434ee67f42f0570",
       "version_major": 2,
       "version_minor": 0
      },
      "text/plain": [
       "Output()"
      ]
     },
     "metadata": {},
     "output_type": "display_data"
    },
    {
     "data": {
      "text/plain": []
     },
     "execution_count": 11,
     "metadata": {},
     "output_type": "execute_result"
    }
   ],
   "source": [
    "df[df[\"GDPPerCapita\"]>40000]"
   ]
  },
  {
   "cell_type": "code",
   "execution_count": 12,
   "metadata": {},
   "outputs": [
    {
     "data": {
      "text/plain": [
       "[RegisteredOption(name='correlation', action=<function correlation at 0x7fe7f78b3310>, display_condition=<function LuxDataFrame.maintain_recs.<locals>.<lambda> at 0x7fe7f3cf0b80>, args=()),\n",
       " RegisteredOption(name='distribution', action=<function univariate at 0x7fe7f78b3dc0>, display_condition=<function LuxDataFrame.maintain_recs.<locals>.<lambda> at 0x7fe7f3cf0b80>, args=('quantitative',)),\n",
       " RegisteredOption(name='occurrence', action=<function univariate at 0x7fe7f78b3dc0>, display_condition=<function LuxDataFrame.maintain_recs.<locals>.<lambda> at 0x7fe7f3cf0b80>, args=('nominal',)),\n",
       " RegisteredOption(name='temporal', action=<function univariate at 0x7fe7f78b3dc0>, display_condition=<function LuxDataFrame.maintain_recs.<locals>.<lambda> at 0x7fe7f3cf0b80>, args=('temporal',)),\n",
       " RegisteredOption(name='enhance', action=<function enhance at 0x7fe7f78b3e50>, display_condition=<function LuxDataFrame.maintain_recs.<locals>.<lambda> at 0x7fe7f3cf0790>, args=()),\n",
       " RegisteredOption(name='filter', action=<function filter at 0x7fe7f78c0040>, display_condition=<function LuxDataFrame.maintain_recs.<locals>.<lambda> at 0x7fe7f3cf0790>, args=()),\n",
       " RegisteredOption(name='generalize', action=<function generalize at 0x7fe7f78c00d0>, display_condition=<function LuxDataFrame.maintain_recs.<locals>.<lambda> at 0x7fe7f3cf0790>, args=()),\n",
       " RegisteredOption(name='custom', action=<function custom at 0x7fe7f75b2d30>, display_condition=<function LuxDataFrame.maintain_recs.<locals>.<lambda> at 0x7fe7f3c13ee0>, args=()),\n",
       " RegisteredOption(name='G10', action=<function G10_mean_difference at 0x7fe7f80959d0>, display_condition=<function is_G10_hpi_dataset at 0x7fe7f3cee9d0>, args=())]"
      ]
     },
     "execution_count": 12,
     "metadata": {},
     "output_type": "execute_result"
    }
   ],
   "source": [
    "lux.actions.__len__()\n",
    "lux.actions.__getactions__()"
   ]
  },
  {
   "cell_type": "code",
   "execution_count": 14,
   "metadata": {},
   "outputs": [
    {
     "data": {
      "text/plain": [
       "RegisteredOption(name='G10', action=<function G10_mean_difference at 0x7fe7f80959d0>, display_condition=<function is_G10_hpi_dataset at 0x7fe7f3cee9d0>, args=())"
      ]
     },
     "execution_count": 14,
     "metadata": {},
     "output_type": "execute_result"
    }
   ],
   "source": [
    "lux.actions.__getattr__(\"G10\")"
   ]
  },
  {
   "cell_type": "code",
   "execution_count": 15,
   "metadata": {},
   "outputs": [],
   "source": [
    "lux.remove_action(\"G10\")"
   ]
  },
  {
   "cell_type": "code",
   "execution_count": 16,
   "metadata": {},
   "outputs": [
    {
     "data": {
      "application/vnd.jupyter.widget-view+json": {
       "model_id": "691aa98924764087bfeb7db9ae8245bf",
       "version_major": 2,
       "version_minor": 0
      },
      "text/plain": [
       "Button(description='Toggle Pandas/Lux', layout=Layout(top='5px', width='140px'), style=ButtonStyle())"
      ]
     },
     "metadata": {},
     "output_type": "display_data"
    },
    {
     "data": {
      "application/vnd.jupyter.widget-view+json": {
       "model_id": "8431cdf8772e453a84ef877b6f74e2b7",
       "version_major": 2,
       "version_minor": 0
      },
      "text/plain": [
       "Output()"
      ]
     },
     "metadata": {},
     "output_type": "display_data"
    },
    {
     "data": {
      "text/plain": []
     },
     "execution_count": 16,
     "metadata": {},
     "output_type": "execute_result"
    }
   ],
   "source": [
    "df"
   ]
  },
  {
   "cell_type": "code",
   "execution_count": null,
   "metadata": {},
   "outputs": [],
   "source": []
  }
 ],
 "metadata": {
  "kernelspec": {
   "display_name": "Python 3",
   "language": "python",
   "name": "python3"
  },
  "language_info": {
   "codemirror_mode": {
    "name": "ipython",
    "version": 3
   },
   "file_extension": ".py",
   "mimetype": "text/x-python",
   "name": "python",
   "nbconvert_exporter": "python",
   "pygments_lexer": "ipython3",
   "version": "3.8.3"
  }
 },
 "nbformat": 4,
 "nbformat_minor": 4
}
