{
 "cells": [
  {
   "cell_type": "code",
   "execution_count": null,
   "metadata": {},
   "outputs": [],
   "source": [
    "import lux\n",
    "import pandas as pd"
   ]
  },
  {
   "cell_type": "code",
   "execution_count": null,
   "metadata": {},
   "outputs": [],
   "source": [
    "df = pd.read_csv(\"https://raw.githubusercontent.com/lux-org/lux-datasets/master/data/college.csv\")"
   ]
  },
  {
   "cell_type": "code",
   "execution_count": null,
   "metadata": {},
   "outputs": [],
   "source": [
    "df"
   ]
  },
  {
   "cell_type": "markdown",
   "metadata": {},
   "source": [
    "## Trying out tracing"
   ]
  },
  {
   "cell_type": "code",
   "execution_count": null,
   "metadata": {},
   "outputs": [],
   "source": [
    "df = pd.read_csv(\"https://raw.githubusercontent.com/lux-org/lux-datasets/master/data/car.csv\")\n",
    "df[\"Year\"] = pd.to_datetime(df[\"Year\"], format='%Y')"
   ]
  },
  {
   "cell_type": "code",
   "execution_count": null,
   "metadata": {},
   "outputs": [],
   "source": [
    "import sys"
   ]
  },
  {
   "cell_type": "code",
   "execution_count": null,
   "metadata": {},
   "outputs": [],
   "source": [
    "import pickle as pkl\n",
    "relevant_lines=[]\n",
    "def profile_func( frame, event, arg):\n",
    "    #Profile functions should have three arguments: frame, event, and arg. \n",
    "    #frame is the current stack frame. \n",
    "    #event is a string: 'call', 'return', 'c_call', 'c_return', or 'c_exception'.\n",
    "    #arg depends on the event type.\n",
    "    try: \n",
    "        if event == 'line' :\n",
    "            fcode = frame.f_code             \n",
    "            line_no = frame.f_lineno\n",
    "            func_name = fcode.co_name\n",
    "            #includeMod = ['lux/vis', 'lux/action', 'lux/vislib', 'lux/executor', 'lux/interestingness']\n",
    "            includeMod = ['lux/vislib','lux/executor']\n",
    "            if any(x in frame.f_code.co_filename for x in includeMod):\n",
    "                if (func_name!=\"<lambda>\"): #ignore one-liner lambda functions (repeated line events)\n",
    "                    relevant_lines.append([frame.f_code.co_filename,func_name,line_no])\n",
    "#                     print (f\"{frame.f_code.co_filename}--{func_name}--{line_no}\")  \n",
    "#                 print (fcode)\n",
    "                \n",
    "                #print (inspect.getsourcelines(fcode))\n",
    "#                 pkl.dump(frame.f_code,open(\"frame.pkl\",'wb'))\n",
    "    except:\n",
    "        # pass  # just swallow errors to avoid interference with traced processes\n",
    "        raise  # for debugging\n",
    "    return profile_func"
   ]
  },
  {
   "cell_type": "code",
   "execution_count": null,
   "metadata": {},
   "outputs": [],
   "source": [
    "def start_tracing():\n",
    "    print (\"-----------start_tracing-----------\")\n",
    "    # Implement python source debugger: https://docs.python.org/3/library/sys.html#sys.settrace\n",
    "    # setprofile faster than settrace (only go through I/O)\n",
    "    sys.settrace(profile_func) \n",
    "def stop_tracing():\n",
    "    print (\"-----------stop_tracing-----------\")\n",
    "    sys.settrace(None) "
   ]
  },
  {
   "cell_type": "code",
   "execution_count": null,
   "metadata": {},
   "outputs": [],
   "source": [
    "start_tracing()"
   ]
  },
  {
   "cell_type": "code",
   "execution_count": null,
   "metadata": {
    "scrolled": false
   },
   "outputs": [],
   "source": [
    "%time \n",
    "from lux.vis.Vis import Vis\n",
    "vis  = Vis([\"Horsepower\"],df)\n",
    "vis"
   ]
  },
  {
   "cell_type": "code",
   "execution_count": null,
   "metadata": {
    "scrolled": true
   },
   "outputs": [],
   "source": [
    "stop_tracing()"
   ]
  },
  {
   "cell_type": "code",
   "execution_count": null,
   "metadata": {},
   "outputs": [],
   "source": [
    "%time\n",
    "from lux.vis.Vis import Vis\n",
    "vis  = Vis([\"Horsepower\"],df)\n",
    "vis"
   ]
  },
  {
   "cell_type": "code",
   "execution_count": null,
   "metadata": {},
   "outputs": [],
   "source": [
    "print (vis.to_Altair())"
   ]
  },
  {
   "cell_type": "code",
   "execution_count": null,
   "metadata": {},
   "outputs": [],
   "source": [
    "selected = \"\"\n",
    "for line in relevant_lines:\n",
    "    filename = line[0]\n",
    "    funcname = line[1]\n",
    "    line_no = line[2]-1\n",
    "    if \"Executor.py\" not in filename or (\"Executor.py\" in filename and \"execute\" in funcname):\n",
    "        codelines = open(filename).readlines()# TODO: do sharing of file content here\n",
    "        if (funcname not in ['__init__']):\n",
    "            code = codelines[line_no]\n",
    "            ignore_construct = ['if','elif','for','return'] # prune out these control flow programming constructs                    \n",
    "            ignore_lux_keyword = ['self.code','self.name','__init__','PandasExecutor.',\"'''\",'self.output_type']# Lux-specific keywords to ignore\n",
    "            ignore = ignore_construct+ignore_lux_keyword\n",
    "            if not any(construct in code for construct in ignore):\n",
    "                print (f\"{filename}--{funcname}--{line_no}\")  \n",
    "                print (codelines[line_no].lstrip())\n",
    "                selected+=codelines[line_no].lstrip()"
   ]
  },
  {
   "cell_type": "code",
   "execution_count": null,
   "metadata": {},
   "outputs": [],
   "source": [
    "selected = selected.replace(\"vis._vis_data\",\"visdf\").replace('vis.data','visdf').replace(\"self.data\",\"visdf\").replace('self.chart',\"chart\").replace('self.vis','vis')"
   ]
  },
  {
   "cell_type": "code",
   "execution_count": null,
   "metadata": {},
   "outputs": [],
   "source": [
    "print (selected)"
   ]
  },
  {
   "cell_type": "code",
   "execution_count": null,
   "metadata": {},
   "outputs": [],
   "source": [
    "from lux.utils import utils\n",
    "from lux.vislib.altair.Histogram import Histogram\n",
    "\n",
    "SAMPLE_START = 10000\n",
    "SAMPLE_CAP = 30000\n",
    "SAMPLE_FRAC = 0.75\n",
    "df._sampled = df\n",
    "visdf = df._sampled\n",
    "visdf is not None\n",
    "filters = utils.get_filter_specs(vis._inferred_intent)\n",
    "attributes = set([])\n",
    "attr = \"Horsepower\"\n",
    "attributes.add(attr)\n",
    "visdf = visdf[list(attributes)]\n",
    "import numpy as np\n",
    "bin_attribute = list(filter(lambda x: x.bin_size != 0, vis._inferred_intent))[0]\n",
    "bin_attr = bin_attribute.attribute\n",
    "series = visdf[bin_attr].dropna()\n",
    "counts, bin_edges = np.histogram(series, bins=bin_attribute.bin_size)\n",
    "bin_center = np.mean(np.vstack([bin_edges[0:-1], bin_edges[1:]]), axis=0)\n",
    "binned_result = np.array([bin_center, counts]).T\n",
    "visdf = pd.DataFrame(binned_result, columns=[bin_attr, \"Number of Records\"])\n",
    "visdf[attr].iloc[0], pd.Period\n",
    "visdf[attr].iloc[0], pd.Interval\n",
    "visdf[attr].iloc[0], pd.Period\n",
    "visdf[attr].iloc[0], pd.Interval\n",
    "chart = Histogram(vis)\n",
    "# self.tooltip = False\n",
    "measure = vis.get_attr_by_data_model(\"measure\", exclude_record=True)[0]\n",
    "msr_attr = vis.get_attr_by_channel(measure.channel)[0]\n",
    "x_min = vis.min_max[msr_attr.attribute][0]\n",
    "x_max = vis.min_max[msr_attr.attribute][1]\n",
    "x_range = abs(max(visdf[msr_attr.attribute]) - min(visdf[msr_attr.attribute]))\n",
    "plot_range = abs(x_max - x_min)\n",
    "markbar = x_range / plot_range * 12\n",
    "# alt.Chart(visdf).mark_bar(size=markbar)\n",
    "# alt.X(\n",
    "# msr_attr.attribute,\n",
    "# title=f\"{msr_attr.attribute} (binned)\",\n",
    "# bin=alt.Bin(binned=True),\n",
    "# type=msr_attr.data_type,\n",
    "# axis=alt.Axis(labelOverlap=True),\n",
    "# scale=alt.Scale(domain=(x_min, x_max)),\n",
    "# alt.Y(\"Number of Records\", type=\"quantitative\")\n",
    "# \"\"\"\n",
    "# color_attr = vis.get_attr_by_channel(\"color\")\n",
    "# chart_title = vis.title\n",
    "# chart = chart.configure_title(fontWeight=500, fontSize=13, font=\"Helvetica Neue\")\n",
    "# chart = chart.configure_axis(\n",
    "# titleFontWeight=500,\n",
    "# titleFontSize=11,\n",
    "# titleFont=\"Helvetica Neue\",\n",
    "# labelFontWeight=400,\n",
    "# labelFontSize=9,\n",
    "# labelFont=\"Helvetica Neue\",\n",
    "# labelColor=\"#505050\",\n",
    "# chart = chart.configure_legend(\n",
    "# titleFontWeight=500,\n",
    "# titleFontSize=10,\n",
    "# titleFont=\"Helvetica Neue\",\n",
    "# labelFontWeight=400,\n",
    "# labelFontSize=9,\n",
    "# labelFont=\"Helvetica Neue\",\n",
    "# chart = chart.properties(width=160, height=150)\n",
    "# \"\\nchart = chart.configure_title(fontWeight=500,fontSize=13,font='Helvetica Neue')\\n\"\n",
    "# chart_dict = chart.chart.to_dict()\n",
    "chart.vis"
   ]
  }
 ],
 "metadata": {
  "kernelspec": {
   "display_name": "Python 3",
   "language": "python",
   "name": "python3"
  },
  "language_info": {
   "codemirror_mode": {
    "name": "ipython",
    "version": 3
   },
   "file_extension": ".py",
   "mimetype": "text/x-python",
   "name": "python",
   "nbconvert_exporter": "python",
   "pygments_lexer": "ipython3",
   "version": "3.8.3"
  }
 },
 "nbformat": 4,
 "nbformat_minor": 4
}
