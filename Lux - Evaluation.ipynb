{
 "cells": [
  {
   "cell_type": "markdown",
   "metadata": {},
   "source": [
    "Thanks for participating in this user study. Kindly follow the tutorial below to learn more about Lux, after which you'll be asked to complete two short tasks. "
   ]
  },
  {
   "cell_type": "markdown",
   "metadata": {},
   "source": [
    "## Overview of Lux"
   ]
  },
  {
   "cell_type": "markdown",
   "metadata": {},
   "source": [
    "###  Quick Start"
   ]
  },
  {
   "cell_type": "markdown",
   "metadata": {},
   "source": [
    "This section provides an overview of how you can use Lux in your data exploration workflow."
   ]
  },
  {
   "cell_type": "markdown",
   "metadata": {},
   "source": [
    "Lux is designed to be tightly integrated with Pandas and can be used as-is, without modifying your existing Pandas code. To enable Lux, simply add `import lux` along with your Pandas import statement."
   ]
  },
  {
   "cell_type": "code",
   "execution_count": 15,
   "metadata": {},
   "outputs": [],
   "source": [
    "import pandas as pd\n",
    "import lux\n",
    "from luxapi import to_code"
   ]
  },
  {
   "cell_type": "markdown",
   "metadata": {},
   "source": [
    "\n",
    "Lux preserves the Pandas dataframe semantics -- which means that you can apply any command from Pandas's API to the dataframes in Lux and expect the same behavior. For example, we can load the dataset via standard Pandas `read_*` commands."
   ]
  },
  {
   "cell_type": "code",
   "execution_count": 7,
   "metadata": {},
   "outputs": [],
   "source": [
    "df = pd.read_csv(\"https://raw.githubusercontent.com/lux-org/lux-datasets/master/data/car.csv\")"
   ]
  },
  {
   "cell_type": "markdown",
   "metadata": {},
   "source": [
    "Lux is built on the philosophy that generating useful visualizations should be as simple as printing out a dataframe. \n",
    "When you print out the dataframe in the notebook, you should see the default Pandas table display with an additional Toggle button. "
   ]
  },
  {
   "cell_type": "code",
   "execution_count": 8,
   "metadata": {
    "collapsed": true
   },
   "outputs": [
    {
     "name": "stderr",
     "output_type": "stream",
     "text": [
      "C:\\Users\\qkava\\Anaconda3\\lib\\site-packages\\lux\\executor\\PandasExecutor.py:364: UserWarning:\n",
      "Lux detects that the attribute 'Year' may be temporal.\n",
      "In order to display visualizations for this attribute accurately, temporal attributes should be converted to Pandas Datetime objects.\n",
      "\n",
      "Please consider converting this attribute using the pd.to_datetime function and providing a 'format' parameter to specify datetime format of the attribute.\n",
      "For example, you can convert the 'month' attribute in a dataset to Datetime type via the following command:\n",
      "\n",
      "\t df['month'] = pd.to_datetime(df['month'], format='%m')\n",
      "\n",
      "See more at: https://pandas.pydata.org/pandas-docs/stable/reference/api/pandas.to_datetime.html\n",
      "\n"
     ]
    },
    {
     "data": {
      "application/vnd.jupyter.widget-view+json": {
       "model_id": "e78c7930573a42bb9dae560a03a8e91c",
       "version_major": 2,
       "version_minor": 0
      },
      "text/plain": [
       "Button(description='Toggle Pandas/Lux', layout=Layout(top='5px', width='140px'), style=ButtonStyle())"
      ]
     },
     "metadata": {},
     "output_type": "display_data"
    },
    {
     "data": {
      "application/vnd.jupyter.widget-view+json": {
       "model_id": "f6def4f1a6d84be89e096c1e6ba1585f",
       "version_major": 2,
       "version_minor": 0
      },
      "text/plain": [
       "Output()"
      ]
     },
     "metadata": {},
     "output_type": "display_data"
    },
    {
     "data": {
      "text/plain": []
     },
     "execution_count": 8,
     "metadata": {},
     "output_type": "execute_result"
    }
   ],
   "source": [
    "df"
   ]
  },
  {
   "cell_type": "markdown",
   "metadata": {},
   "source": [
    "By clicking on the Toggle button, you can now explore the data visually through Lux. You should see three tabs of visualizations recommended to you. "
   ]
  },
  {
   "cell_type": "markdown",
   "metadata": {},
   "source": [
    "### Creating Desired Visualizations On-Demand Using `Vis`"
   ]
  },
  {
   "cell_type": "markdown",
   "metadata": {},
   "source": [
    "Now, you've seen how Lux recommends visualizations automatically to the user. Often, the user might have a particular visualizations in mind that they want to specify. In this case, users can quickly define their own visualizations using Lux and visualize their data on-demand. We will now introduce how to create a visualization vis the `Vis` object."
   ]
  },
  {
   "cell_type": "markdown",
   "metadata": {},
   "source": [
    "A `Vis` object represents an individual visualization displayed in Lux, which can either be automatically generated or defined by the user.\n",
    "\n",
    "To generate a `Vis`, users should specify their intent and a source dataframe as inputs. \n",
    "\n",
    "For example, here we indicate our intent for visualizing the `Horsepower` attribute on the dataframe `df`."
   ]
  },
  {
   "cell_type": "code",
   "execution_count": 10,
   "metadata": {},
   "outputs": [
    {
     "data": {
      "application/vnd.jupyter.widget-view+json": {
       "model_id": "e2e9c8c72d414719a90cfff2d9bd66c2",
       "version_major": 2,
       "version_minor": 0
      },
      "text/plain": [
       "LuxWidget(current_vis={'config': {'view': {'continuousWidth': 400, 'continuousHeight': 300}, 'axis': {'labelCo…"
      ]
     },
     "metadata": {},
     "output_type": "display_data"
    },
    {
     "data": {
      "text/plain": [
       "<Vis  (x: BIN(Horsepower), y: COUNT(Record)) mark: histogram, score: 0.0 >"
      ]
     },
     "execution_count": 10,
     "metadata": {},
     "output_type": "execute_result"
    }
   ],
   "source": [
    "from lux.vis.Vis import Vis\n",
    "intent = [\"Horsepower\"]\n",
    "vis = Vis(intent,df)\n",
    "vis"
   ]
  },
  {
   "cell_type": "markdown",
   "metadata": {},
   "source": [
    "### Tweaking Desired Visualization"
   ]
  },
  {
   "cell_type": "markdown",
   "metadata": {},
   "source": [
    "For the `Vis` object that you created earlier, there might be graphical tweaks a user might want to make in order to change the graph settings. \n",
    "\n",
    "In order to do this, we have created a new functionality that provides the entire trace of the Lux code being executed. In order to obtain the trace, the `to_code` function should be executed. Below is how you do that - \n"
   ]
  },
  {
   "cell_type": "code",
   "execution_count": 17,
   "metadata": {},
   "outputs": [
    {
     "name": "stdout",
     "output_type": "stream",
     "text": [
      " Processing Data with Altair\n",
      "visdf = df[['Horsepower']]\n",
      "import numpy as np\n",
      "series = visdf['Horsepower'].dropna() \n",
      "counts,bin_edges = np.histogram(series,bins=10)\n",
      "bin_center = np.mean(np.vstack([bin_edges[0:-1],bin_edges[1:]]), axis=0)\n",
      "visdf = pd.DataFrame(np.array([bin_center,counts]).T,columns=['Horsepower', \"Number of Records\"])\n",
      "# Plotting Histogram with Altair\n",
      "import altair as alt\n",
      "measure = vis.get_attr_by_data_model(\"measure\",exclude_record=True)[0]\n",
      "msr_attr = vis.get_attr_by_channel(measure.channel)[0]\n",
      "x_min = vis.min_max['Horsepower'][0]\n",
      "x_max = vis.min_max['Horsepower'][1]\n",
      "x_range = abs(max(vis.data['Horsepower']) - \n",
      "min(vis.data['Horsepower']))\n",
      "plot_range = abs(x_max - x_min)\n",
      "markbar = x_range / plot_range * 12\n",
      "chart = alt.Chart(visdf).mark_bar(size=markbar).encode(\n",
      "alt.X('Horsepower', title='Horsepower (binned)',bin=alt.Bin(binned=True), type=msr_attr.data_type, axis=alt.Axis(labelOverlap=True), scale=alt.Scale(domain=(x_min, x_max))),\n",
      "alt.Y(\"Number of Records\", type=\"quantitative\")\n",
      ")\n",
      "chart = chart.configure_title(fontWeight=500,fontSize=13,font=\"Helvetica Neue\")\n",
      "chart = chart.configure_axis(titleFontWeight=500,titleFontSize=11,titleFont=\"Helvetica Neue\",\n",
      "labelFontWeight=400,labelFontSize=9,labelFont=\"Helvetica Neue\",labelColor=\"#505050\")\n",
      "chart = chart.configure_legend(titleFontWeight=500,titleFontSize=10,titleFont=\"Helvetica Neue\",\n",
      "labelFontWeight=400,labelFontSize=9,labelFont=\"Helvetica Neue\")\n",
      "chart = chart.properties(width=160,height=150)\n",
      "chart\n",
      "\n"
     ]
    }
   ],
   "source": [
    "print(to_code(vis))"
   ]
  },
  {
   "cell_type": "code",
   "execution_count": null,
   "metadata": {},
   "outputs": [],
   "source": []
  },
  {
   "cell_type": "markdown",
   "metadata": {},
   "source": [
    "Now that you're equipped with the understanding of the basic functionality of Lux, try to complete the following tasks - "
   ]
  },
  {
   "cell_type": "markdown",
   "metadata": {},
   "source": [
    "# Task 1"
   ]
  },
  {
   "cell_type": "markdown",
   "metadata": {},
   "source": [
    "For the vis that you generated earlier, try changing the height and width to 300 x 300. Use the below cells for your code - "
   ]
  },
  {
   "cell_type": "code",
   "execution_count": null,
   "metadata": {},
   "outputs": [],
   "source": []
  },
  {
   "cell_type": "code",
   "execution_count": null,
   "metadata": {},
   "outputs": [],
   "source": []
  },
  {
   "cell_type": "markdown",
   "metadata": {},
   "source": [
    "# Task 2"
   ]
  },
  {
   "cell_type": "markdown",
   "metadata": {},
   "source": [
    "For the vis that you generated earlier, try changing the target variable from 'Horsepower' to 'Cylinders'. Additionally, rename the y-axis label to 'Count' - "
   ]
  },
  {
   "cell_type": "code",
   "execution_count": null,
   "metadata": {},
   "outputs": [],
   "source": []
  },
  {
   "cell_type": "code",
   "execution_count": null,
   "metadata": {},
   "outputs": [],
   "source": []
  }
 ],
 "metadata": {
  "kernelspec": {
   "display_name": "Python 3",
   "language": "python",
   "name": "python3"
  },
  "language_info": {
   "codemirror_mode": {
    "name": "ipython",
    "version": 3
   },
   "file_extension": ".py",
   "mimetype": "text/x-python",
   "name": "python",
   "nbconvert_exporter": "python",
   "pygments_lexer": "ipython3",
   "version": "3.7.3"
  }
 },
 "nbformat": 4,
 "nbformat_minor": 4
}
